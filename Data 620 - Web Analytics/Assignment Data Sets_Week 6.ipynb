{
 "cells": [
  {
   "cell_type": "markdown",
   "id": "6892638f",
   "metadata": {},
   "source": [
    "Evan McLaughlin <br>\n",
    "Vladimir Nimchenko\n",
    "\n",
    "\n",
    "We have a 2-node network comprised of 18 Women and 14 events. We need to find the relatonship between the women and events."
   ]
  },
  {
   "cell_type": "code",
   "execution_count": null,
   "id": "e0e0408e",
   "metadata": {
    "scrolled": true
   },
   "outputs": [],
   "source": [
    "import matplotlib.pyplot as plt\n",
    "import numpy as np\n",
    "import networkx as nx\n",
    "import networkx.algorithms.bipartite as bipartite\n"
   ]
  },
  {
   "cell_type": "markdown",
   "id": "2303a4d6",
   "metadata": {},
   "source": [
    "Creating the bipartite graph from the \"women\" and \"event\" nodes:"
   ]
  },
  {
   "cell_type": "code",
   "execution_count": null,
   "id": "88259bbe",
   "metadata": {
    "scrolled": true
   },
   "outputs": [],
   "source": [
    "# Read in the data set\n",
    "G = nx.davis_southern_women_graph()\n",
    "\n",
    "# We'll start with creating the graph, assigning the nodes, and adding the edges so that we can start to visualize our attendance patterns.\n",
    "women = G.graph['top']\n",
    "events = G.graph['bottom']\n",
    "G.add_nodes_from(women, bipartite=0)\n",
    "G.add_nodes_from(events, bipartite=1)\n",
    "for i, row_label in enumerate(women):\n",
    "    for j, column_label in enumerate(events):\n",
    "        G.add_edge(row_label, column_label)\n",
    "            \n",
    "# Let's next plot bipartite graph\n",
    "plt.rcParams[\"figure.figsize\"] = (12,14)\n",
    "pos = nx.bipartite_layout(G,women)\n",
    "nx.draw(G, pos, with_labels=True, font_weight='bold', node_color='red', font_size=8)\n",
    "plt.title(\"Bipartite Graph of Women and Social Events\")\n",
    "plt.show()"
   ]
  },
  {
   "cell_type": "markdown",
   "id": "707fb8af",
   "metadata": {},
   "source": [
    "Projecting the bipartite graph on to the \"women\" nodes ---- Degree of Centrality (the number of friends each woman has)"
   ]
  },
  {
   "cell_type": "code",
   "execution_count": null,
   "id": "6735dc99",
   "metadata": {},
   "outputs": [],
   "source": [
    "g = nx.davis_southern_women_graph()\n",
    "wm = bipartite.projected_graph(g, women)\n",
    "print(\"Number of Friends, Event Member\")\n",
    "women_degree = {}\n",
    "for w in women:\n",
    "    women_degree[w] = wm.degree(w)\n",
    "for w in sorted(women_degree, key=women_degree.get, reverse=True):\n",
    "  print(women_degree[w], w)\n"
   ]
  },
  {
   "cell_type": "markdown",
   "id": "60cb9955",
   "metadata": {},
   "source": [
    "Projecting the bipartite graph on the \"women\" nodes ---- Weighted (the number of shared contacts each woman has)"
   ]
  },
  {
   "cell_type": "code",
   "execution_count": null,
   "id": "f4fb087a",
   "metadata": {},
   "outputs": [],
   "source": [
    "W = bipartite.weighted_projected_graph(g, women)\n",
    "print(\"Number of Shared Contacts, Event Member\")   \n",
    "W_weights = {}\n",
    "for w in women:\n",
    "    W_weights[w] = W.degree(w, weight='weight')\n",
    "for w in sorted(W_weights, key=W_weights.get, reverse=True):\n",
    "    print(W_weights[w], w)"
   ]
  },
  {
   "cell_type": "markdown",
   "id": "10f75be3",
   "metadata": {},
   "source": [
    "By observing the Degree of Centrality it seems that for the most part all women are equally connected. If we observe weighted connections we can see that Theresa Anderson has the most shared connections meaning she has the the highest range of influence than other members. We can also see that for the most part all members who are well connected also have the highest range of influence (i.e. \"Theresa Anderson\" and \"Evelyn Jefferson\")"
   ]
  },
  {
   "cell_type": "markdown",
   "id": "f0ac4401",
   "metadata": {},
   "source": [
    "Graphing Women Network"
   ]
  },
  {
   "cell_type": "code",
   "execution_count": null,
   "id": "80ae2bd9",
   "metadata": {},
   "outputs": [],
   "source": [
    "weights=[edata['weight'] for f,t,edata in W.edges(data=True)]\n",
    "nx.draw(W, with_labels=True, node_size=2000, node_color=\"pink\", font_size=12, font_family=\"calibri\", \n",
    "                width=weights, edge_color=\"gray\", alpha=0.8)\n",
    "plt.show()\n"
   ]
  },
  {
   "cell_type": "markdown",
   "id": "db7e646b",
   "metadata": {},
   "source": [
    "Projecting the bipartite graph on to the \"event\" nodes ---- Degree of Centrality (number of connections of each event)"
   ]
  },
  {
   "cell_type": "code",
   "execution_count": null,
   "id": "208e5595",
   "metadata": {},
   "outputs": [],
   "source": [
    "E = bipartite.projected_graph(g, events)\n",
    "print(\"Number of Events\")  \n",
    "E_degrees = {}\n",
    "for e in events:\n",
    "    E_degrees[e] = E.degree(e)\n",
    "for e in sorted(E_degrees, key=E_degrees.get, reverse=True):\n",
    "  print(E_degrees[e], e)\n"
   ]
  },
  {
   "cell_type": "markdown",
   "id": "de82989c",
   "metadata": {},
   "source": [
    "Projecting the bipartite graph on the \"event\" nodes ---- Weighted (the number of attendees for each event)"
   ]
  },
  {
   "cell_type": "code",
   "execution_count": null,
   "id": "acf8bc80",
   "metadata": {},
   "outputs": [],
   "source": [
    "Ev = bipartite.weighted_projected_graph(g,events)\n",
    "print(\"#Event Attendees, Event\")\n",
    "E_weights = {}\n",
    "for e in events:\n",
    "    E_weights[e] = Ev.degree(e, weight='weight')\n",
    "\n",
    "for e in sorted(E_weights, key=E_weights.get, reverse=True):\n",
    "  print(E_weights[e], e)\n"
   ]
  },
  {
   "cell_type": "markdown",
   "id": "b8405040",
   "metadata": {},
   "source": [
    "Graphing Event Network"
   ]
  },
  {
   "cell_type": "code",
   "execution_count": null,
   "id": "cf72c013",
   "metadata": {},
   "outputs": [],
   "source": [
    "weights=[edata['weight'] for f,t,edata in Ev.edges(data=True)]\n",
    "nx.draw(E,with_labels=True, node_size=1000, node_color=\"white\", font_size=12, font_family=\"calibri\", \n",
    "                width=weights, edge_color=\"gray\", alpha=0.8)\n",
    "plt.show()"
   ]
  },
  {
   "cell_type": "markdown",
   "id": "0bbceecd",
   "metadata": {},
   "source": [
    "We can see from the Event projections that events (E6-E9) are the most popular (most attendees) and has the most number of connections."
   ]
  },
  {
   "cell_type": "markdown",
   "id": "7653cb89",
   "metadata": {},
   "source": [
    "I will now create a bimodal graph whre we can see both the \"women\" and \"events\" they attended to see how they are all connected"
   ]
  },
  {
   "cell_type": "code",
   "execution_count": null,
   "id": "85a2e416",
   "metadata": {},
   "outputs": [],
   "source": [
    "colors = []\n",
    "for node, data in g.nodes(data=True):\n",
    "    if data['bipartite'] == 1:\n",
    "        colors.append('pink')         \n",
    "    else:\n",
    "        colors.append('lightblue')\n",
    "nx.draw(g, with_labels=True, node_size=1000, node_color=colors, font_size=12, font_family=\"calibri\", \n",
    "                 width=weights, edge_color=\"darkgray\", alpha=0.8)\n",
    "plt.show()\n"
   ]
  },
  {
   "cell_type": "markdown",
   "id": "f33745d6",
   "metadata": {},
   "source": [
    "Conclusions:\n",
    "\n",
    "From doing women projectons we can see that Theresa Anderson was the most influential and most connected member of all events. We also saw that Flora Price was the least influential and did not actively participate in the events. Doing event projections we saw that E6-E9 were the most popular events attended. We also saw that Ell was one of the least popular events attended. By looking at the Bimodal graph connecting events to members we can see that the most popular members Theresa Anderson and Evelyn Jefferson attended the most popular events (E6-E9)."
   ]
  }
 ],
 "metadata": {
  "kernelspec": {
   "display_name": "Python 3 (ipykernel)",
   "language": "python",
   "name": "python3"
  },
  "language_info": {
   "codemirror_mode": {
    "name": "ipython",
    "version": 3
   },
   "file_extension": ".py",
   "mimetype": "text/x-python",
   "name": "python",
   "nbconvert_exporter": "python",
   "pygments_lexer": "ipython3",
   "version": "3.11.5"
  }
 },
 "nbformat": 4,
 "nbformat_minor": 5
}
